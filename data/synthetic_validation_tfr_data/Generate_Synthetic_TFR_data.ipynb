{
 "cells": [
  {
   "cell_type": "markdown",
   "metadata": {},
   "source": [
    "# Generating Synthetic Validation Time-Frequency Representation (TFR) Data\n",
    "This script generates synthetic time-frequency representation (TFR) data to validate the NeuroCluster method using a dataset with a known ground truth. Users can modify parameters as needed to create variations of the synthetic test data.\n",
    "\n",
    "The output is an [```mne.time_frequency.EpochsTFR``` object](https://mne.tools/1.8/generated/mne.time_frequency.EpochsTFR.html), saved as a ```.fif``` file. The data has a four-dimensional structure:\n",
    "\n",
    "(n_trials, n_channels, n_freqs, n_times)\n",
    "\n",
    "This structured format enables controlled validation of NeuroCluster's performance under known conditions.\n",
    "\n"
   ]
  },
  {
   "cell_type": "code",
   "execution_count": null,
   "metadata": {},
   "outputs": [],
   "source": [
    "# load relevant packages \n",
    "import numpy as np\n",
    "import mne\n",
    "import pandas as pd\n",
    "from scipy.stats import norm\n",
    "\n",
    "# define an output directory to save the synthetic data \n",
    "output_directory = '/path/to/output/directory/'"
   ]
  },
  {
   "cell_type": "code",
   "execution_count": null,
   "metadata": {},
   "outputs": [],
   "source": [
    "# Define parameters (timing, frequency, number of trials, and channels)\n",
    "# These parameters can be adjusted as needed\n",
    "times = np.linspace(-1, 1, 500)  # 500 time points from -1s to 1s\n",
    "freqs = np.logspace(*np.log10([2, 200]), num=30) # 30 frequencies from 2Hz to 200Hz\n",
    "n_trials = 100\n",
    "n_channels = 1\n",
    "\n",
    "# Create baseline noise - we do this because we want to simulate a TFR with some baseline noise\n",
    "np.random.seed(42)\n",
    "data = np.random.randn(n_trials, len(freqs), len(times)) * 0.1  # Random noise\n",
    "\n",
    "# Generate 'expected value' metadata with values from a uniform distribution - we do this to simulate an example behavioral regressor that is continous. \n",
    "expected_value = np.linspace(0, 1, n_trials)  # Expected values from 0 to 1\n",
    "\n",
    "# Add power increase in 70-200 Hz at 0.5-0.6s based on 'expected value' - we do this to simulate a TFR with a power increase in a specific frequency band and time window associated with increases in expected value. NeuroCluster should identify this cluster as a validation for the method. \n",
    "time_mask = (times >= 0.5) & (times <= 0.6)\n",
    "freq_mask = freqs >= 70\n",
    "\n",
    "# Create a Gaussian-shaped power increase - we do this to simulate a TFR with a Gaussian-shaped power increase in a specific frequency band and time window.\n",
    "# The Gaussian is centered at 0.55s with a standard deviation of 0.05s\n",
    "# and the frequency band is 70-200 Hz.\n",
    "time_profile = norm.pdf(times, loc=0.55, scale=0.05)  # Peak at 0.55s, std=0.05\n",
    "freq_profile = np.linspace(0.5, 1, sum(freq_mask))[:, None]  # Linearly increasing power\n",
    "\n",
    "# Apply power increase proportional to 'expected value' - \n",
    "for i in range(n_trials):\n",
    "    data[i, freq_mask, :] += (freq_profile * time_profile[None, :]) * 2 * expected_value[i]  # Scale by expected value\n",
    "\n",
    "# Reshape data to 4D (n_trials, n_channels, n_freqs, n_times)\n",
    "data = data[:, np.newaxis, :, :]\n",
    "\n",
    "# Create MNE TFR object\n",
    "info = mne.create_info(ch_names=['synthetic_channel'], sfreq=500, ch_types=['eeg'])\n",
    "tfr = mne.time_frequency.EpochsTFR(info, data, times, freqs, n_trials, method='custom')\n",
    "\n",
    "# Assign metadata as a DataFrame\n",
    "tfr.metadata = pd.DataFrame({'expected_value': expected_value})\n",
    "\n",
    "# Plot two TFRs - separately for high and low expected values\n",
    "high_expected = tfr.metadata['expected_value'] > 0.5\n",
    "low_expected = tfr.metadata['expected_value'] <= 0.5\n",
    "tfr_high = tfr.copy()\n",
    "tfr_high.data = tfr.data[high_expected]\n",
    "tfr_low = tfr.copy()\n",
    "tfr_low.data = tfr.data[low_expected]\n",
    "# Plotting\n",
    "tfr_high.average().plot([0], title='High Expected Value')\n",
    "tfr_low.average().plot([0], title='Low Expected Value')\n",
    "# Show the plots\n",
    "plt.show()\n"
   ]
  },
  {
   "cell_type": "code",
   "execution_count": 9,
   "metadata": {},
   "outputs": [],
   "source": [
    "# save the TFR object to a file\n",
    "tfr.save(f'{output_directory}/synthetic_validation_tfr.fif')"
   ]
  }
 ],
 "metadata": {
  "kernelspec": {
   "display_name": "Python 3",
   "language": "python",
   "name": "python3"
  },
  "language_info": {
   "codemirror_mode": {
    "name": "ipython",
    "version": 3
   },
   "file_extension": ".py",
   "mimetype": "text/x-python",
   "name": "python",
   "nbconvert_exporter": "python",
   "pygments_lexer": "ipython3",
   "version": "3.8.8"
  }
 },
 "nbformat": 4,
 "nbformat_minor": 2
}
